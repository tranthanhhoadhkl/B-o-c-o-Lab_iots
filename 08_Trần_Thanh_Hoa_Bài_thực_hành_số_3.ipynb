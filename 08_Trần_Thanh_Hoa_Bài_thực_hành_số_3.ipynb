{
  "nbformat": 4,
  "nbformat_minor": 0,
  "metadata": {
    "colab": {
      "provenance": []
    },
    "kernelspec": {
      "name": "python3",
      "display_name": "Python 3"
    },
    "language_info": {
      "name": "python"
    }
  },
  "cells": [
    {
      "cell_type": "code",
      "source": [
        "pip install pyotp qrcode"
      ],
      "metadata": {
        "colab": {
          "base_uri": "https://localhost:8080/"
        },
        "id": "vTxGolCx0AkT",
        "outputId": "4ca4553b-6390-4121-cad1-cc86b69a33bd"
      },
      "execution_count": 1,
      "outputs": [
        {
          "output_type": "stream",
          "name": "stdout",
          "text": [
            "Requirement already satisfied: pyotp in /usr/local/lib/python3.11/dist-packages (2.9.0)\n",
            "Collecting qrcode\n",
            "  Downloading qrcode-8.2-py3-none-any.whl.metadata (17 kB)\n",
            "Downloading qrcode-8.2-py3-none-any.whl (45 kB)\n",
            "\u001b[2K   \u001b[90m━━━━━━━━━━━━━━━━━━━━━━━━━━━━━━━━━━━━━━━━\u001b[0m \u001b[32m46.0/46.0 kB\u001b[0m \u001b[31m2.7 MB/s\u001b[0m eta \u001b[36m0:00:00\u001b[0m\n",
            "\u001b[?25hInstalling collected packages: qrcode\n",
            "Successfully installed qrcode-8.2\n"
          ]
        }
      ]
    },
    {
      "cell_type": "code",
      "source": [
        "import pyotp\n",
        "import qrcode\n",
        "\n",
        "# 1. Sinh secret key\n",
        "secret = pyotp.random_base32()\n",
        "print(\"SECRET:\", secret)\n",
        "\n",
        "# 2. Ghi secret ra file để dùng lại sau\n",
        "with open(\"secret.txt\", \"w\") as f:\n",
        "    f.write(secret)\n",
        "\n",
        "# 3. Tạo URI theo chuẩn otpauth\n",
        "totp = pyotp.TOTP(secret)\n",
        "uri = totp.provisioning_uri(name=\"user@example.com\", issuer_name=\"MyMFAApp\")\n",
        "\n",
        "# 4. Tạo mã QR từ URI và lưu ra file\n",
        "img = qrcode.make(uri)\n",
        "img.save(\"otp_qr_ver1.png\")\n",
        "\n",
        "print(\"Đã tạo mã QR trong file 'otp_qr_ver1.png'\")\n"
      ],
      "metadata": {
        "colab": {
          "base_uri": "https://localhost:8080/"
        },
        "id": "FuCioXZz0HsG",
        "outputId": "5cc97d75-aba2-4be5-97b4-d0ae69de6157"
      },
      "execution_count": 3,
      "outputs": [
        {
          "output_type": "stream",
          "name": "stdout",
          "text": [
            "SECRET: PNS2TDYW4QMB52SGMTGA2QXSZSFERZ4W\n",
            "Đã tạo mã QR trong file 'otp_qr_ver1.png'\n"
          ]
        }
      ]
    },
    {
      "cell_type": "code",
      "source": [
        "import pyotp\n",
        "\n",
        "# 1. Đọc lại secret key từ file\n",
        "with open(\"secret.txt\", \"r\") as f:\n",
        "    secret = f.read().strip()\n",
        "\n",
        "# Khởi tạo đối tượng TOTP từ secret key\n",
        "totp = pyotp.TOTP(secret)\n",
        "\n",
        "# 2. Bước 1: Nhập mật khẩu\n",
        "password = input(\"Nhập mật khẩu: \")\n",
        "if password != \"123456\":\n",
        "    print(\"  Mật khẩu sai!\")\n",
        "    exit()\n",
        "\n",
        "# 3. Bước 2: Nhập mã OTP\n",
        "otp = input(\"Nhập mã OTP từ Google Authenticator: \")\n",
        "\n",
        "# 4. Kiểm tra mã OTP\n",
        "if totp.verify(otp):\n",
        "    print(\"  Xác thực thành công! Bạn đã đăng nhập.\")\n",
        "else:\n",
        "    print(\"  Mã OTP sai hoặc đã hết hạn.\")\n"
      ],
      "metadata": {
        "colab": {
          "base_uri": "https://localhost:8080/"
        },
        "id": "McU8LSCs0Czp",
        "outputId": "66b5610d-3258-4231-bcb1-d8fa55438440"
      },
      "execution_count": 1,
      "outputs": [
        {
          "output_type": "stream",
          "name": "stdout",
          "text": [
            "Nhập mật khẩu: 123\n",
            "  Mật khẩu sai!\n",
            "Nhập mã OTP từ Google Authenticator: 033745\n",
            "  Xác thực thành công! Bạn đã đăng nhập.\n"
          ]
        }
      ]
    }
  ]
}