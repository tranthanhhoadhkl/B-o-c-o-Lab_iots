{
  "nbformat": 4,
  "nbformat_minor": 0,
  "metadata": {
    "colab": {
      "provenance": []
    },
    "kernelspec": {
      "name": "python3",
      "display_name": "Python 3"
    },
    "language_info": {
      "name": "python"
    }
  },
  "cells": [
    {
      "cell_type": "code",
      "execution_count": 1,
      "metadata": {
        "colab": {
          "base_uri": "https://localhost:8080/"
        },
        "id": "MDP36pMxeTS2",
        "outputId": "c6e40b08-3820-4d2e-9270-2b8c8b41c62d"
      },
      "outputs": [
        {
          "output_type": "stream",
          "name": "stdout",
          "text": [
            "Collecting pyotp\n",
            "  Downloading pyotp-2.9.0-py3-none-any.whl.metadata (9.8 kB)\n",
            "Downloading pyotp-2.9.0-py3-none-any.whl (13 kB)\n",
            "Installing collected packages: pyotp\n",
            "Successfully installed pyotp-2.9.0\n"
          ]
        }
      ],
      "source": [
        "pip install pyotp"
      ]
    },
    {
      "cell_type": "code",
      "source": [
        "import hashlib\n",
        "\n",
        "# Mật khẩu gốc (đã băm trước đó) - ví dụ: \"mypassword\"\n",
        "stored_password = hashlib.sha256(b\"mypassword\").hexdigest()\n",
        "\n",
        "# Nhập mật khẩu từ người dùng\n",
        "password = input(\"Nhập mật khẩu: \")\n",
        "\n",
        "# Băm mật khẩu người dùng nhập\n",
        "hashed_password = hashlib.sha256(password.encode()).hexdigest()\n",
        "\n",
        "# So sánh mật khẩu băm với mật khẩu đã lưu\n",
        "if hashed_password == stored_password:\n",
        "    print(\" Xác thực thành công!\")\n",
        "else:\n",
        "    print(\" Xác thực thất bại!\")\n"
      ],
      "metadata": {
        "colab": {
          "base_uri": "https://localhost:8080/"
        },
        "id": "YgFq1snLec_i",
        "outputId": "7fd56968-7a97-4486-f118-5cc035dfc145"
      },
      "execution_count": 2,
      "outputs": [
        {
          "output_type": "stream",
          "name": "stdout",
          "text": [
            "Nhập mật khẩu: 12345678910\n",
            " Xác thực thất bại!\n"
          ]
        }
      ]
    },
    {
      "cell_type": "code",
      "source": [
        "import pyotp\n",
        "import time\n",
        "\n",
        "# Tạo khóa bí mật và mã OTP\n",
        "secret = pyotp.random_base32()\n",
        "totp = pyotp.TOTP(secret)\n",
        "\n",
        "print(\"Khóa bí mật (dùng để cài ứng dụng Google Authenticator):\", secret)\n",
        "print(\"Mã OTP của bạn là:\", totp.now())\n",
        "\n",
        "# Yêu cầu người dùng nhập mã OTP\n",
        "otp_input = input(\"Nhập mã OTP: \")\n",
        "\n",
        "# Xác thực mã OTP\n",
        "if totp.verify(otp_input):\n",
        "    print(\"Xác thực thành công!\")\n",
        "else:\n",
        "    print(\" Xác thực thất bại!\")\n"
      ],
      "metadata": {
        "colab": {
          "base_uri": "https://localhost:8080/"
        },
        "id": "yfr3Oj8MekD7",
        "outputId": "8a88c1a3-643c-44bd-92f6-6c6cdbf364ab"
      },
      "execution_count": 5,
      "outputs": [
        {
          "output_type": "stream",
          "name": "stdout",
          "text": [
            "Khóa bí mật (dùng để cài ứng dụng Google Authenticator): QSIO3PEP37SFMOJ5SMNHCRVVM3F5224Q\n",
            "Mã OTP của bạn là: 161275\n",
            "Nhập mã OTP: 161275\n",
            "Xác thực thành công!\n"
          ]
        }
      ]
    },
    {
      "cell_type": "code",
      "source": [
        "import hashlib\n",
        "import pyotp\n",
        "import time\n",
        "\n",
        "# Bước 1: Xác thực bằng mật khẩu\n",
        "stored_password = hashlib.sha256(b\"mypassword\").hexdigest()  # Mật khẩu lưu dưới dạng SHA-256 hash\n",
        "\n",
        "password = input(\"Nhập mật khẩu: \")\n",
        "hashed_password = hashlib.sha256(password.encode()).hexdigest()\n",
        "\n",
        "if hashed_password == stored_password:\n",
        "    print(\" Xác thực mật khẩu thành công! Chuyển sang bước xác thực bằng mã OTP.\")\n",
        "else:\n",
        "    print(\" Xác thực mật khẩu thất bại!\")\n",
        "    exit()  # Thoát nếu sai mật khẩu\n",
        "\n",
        "# Bước 2: Xác thực bằng mã OTP\n",
        "# Tạo khóa bí mật\n",
        "secret = pyotp.random_base32()\n",
        "totp = pyotp.TOTP(secret)\n",
        "\n",
        "# In mã OTP (trong thực tế sẽ gửi qua SMS hoặc email)\n",
        "print(\"Mã OTP của bạn là:\", totp.now())\n",
        "\n",
        "# Yêu cầu người dùng nhập mã OTP\n",
        "otp_input = input(\"Nhập mã OTP: \")\n",
        "\n",
        "# Xác thực OTP\n",
        "if totp.verify(otp_input):\n",
        "    print(\" Xác thực hai yếu tố thành công!\")\n",
        "else:\n",
        "    print(\" Xác thực bước 2 (OTP) thất bại!\")\n"
      ],
      "metadata": {
        "colab": {
          "base_uri": "https://localhost:8080/"
        },
        "id": "Q7yi8xy8e1ZV",
        "outputId": "dc054278-35c0-4c5d-d670-c6f401bc5a05"
      },
      "execution_count": 6,
      "outputs": [
        {
          "output_type": "stream",
          "name": "stdout",
          "text": [
            "Nhập mật khẩu: 123\n",
            " Xác thực mật khẩu thất bại!\n",
            "Mã OTP của bạn là: 499273\n",
            "Nhập mã OTP: 499273\n",
            " Xác thực hai yếu tố thành công!\n"
          ]
        }
      ]
    },
    {
      "cell_type": "markdown",
      "source": [
        " 1.  Tại sao xác thực hai yếu tố (2FA) lại an toàn hơn so với xác thực chỉ bằng mật khẩu?\n",
        "\n",
        " Xác thực hai yếu tố (2FA) an toàn hơn vì nó yêu cầu người dùng phải cung cấp hai loại thông tin khác nhau: thứ bạn biết (mật khẩu) và thứ bạn có (mã OTP từ thiết bị cá nhân). Nếu chỉ dùng mật khẩu, khi bị rò rỉ hoặc đoán đúng, tài khoản sẽ bị chiếm đoạt. Tuy nhiên, với 2FA, ngay cả khi kẻ xấu biết mật khẩu thì họ vẫn cần có thiết bị chứa mã OTP (như điện thoại), khiến việc tấn công gần như bất khả thi. Nhờ đó, 2FA giúp giảm thiểu đáng kể rủi ro bị xâm nhập trái phép.\n",
        " 2.  Có thể cải tiến thêm tính năng bảo mật nào cho chương trình này không?\n",
        " Có rất nhiều cách để tăng cường bảo mật:\n",
        "\n",
        "Thêm giới hạn số lần nhập sai mật khẩu, ví dụ sau 3 lần sai sẽ tạm khóa tài khoản.\n",
        "Thay vì chỉ dùng SHA-256 để băm mật khẩu, nên dùng các thuật toán mạnh hơn như bcrypt hoặc scrypt, có hỗ trợ thêm salt để chống tấn công bảng băm.\n",
        "Không nên in mã OTP trực tiếp ra màn hình mà nên gửi nó qua email hoặc tin nhắn.\n",
        "Secret dùng để tạo mã OTP nên được lưu cố định cho từng người dùng, không nên tạo mới mỗi lần chạy chương trình.\n",
        "Có thể hiển thị mã QR để người dùng quét bằng ứng dụng như Google Authenticator, tạo trải nghiệm thực tế hơn.\n",
        "Ghi log các lần đăng nhập để phát hiện bất thường.\n",
        "Mã hóa toàn bộ dữ liệu và sử dụng giao thức HTTPS nếu chạy chương trình trên web.\n",
        "3. Dựa trên kết quả thực hành, Anh/Chị rút ra được bài học gì về tính bảo mật của mật khẩu và mã OTP?\n",
        "\n",
        "Dựa trên kết quả thực hành, có thể rút ra một số bài học quan trọng về tính bảo mật của mật khẩu và mã OTP như sau:\n",
        "\n",
        " 1. Mật khẩu không đủ an toàn nếu chỉ dùng một mình\n",
        "Khi bạn nhập mật khẩu sai (12345678910), chương trình đã từ chối truy cập — điều này chứng tỏ hệ thống kiểm tra đúng theo cách băm mật khẩu và đối chiếu. Tuy nhiên, trên thực tế:\n",
        "\n",
        "Mật khẩu rất dễ bị đoán, lộ qua tấn công phishing, hoặc rò rỉ từ cơ sở dữ liệu bị hack.\n",
        "Nếu không có thêm lớp bảo vệ, người tấn công có thể dễ dàng đăng nhập chỉ với mật khẩu bị đánh cắp.\n",
        " 2. Mã OTP là lớp bảo mật hiệu quả và khó giả mạo\n",
        "Mã OTP (ở đây là 161275) chỉ có hiệu lực trong một khoảng thời gian ngắn (thường 30 giây), và được tạo ra dựa trên khóa bí mật và thời gian hiện tại. Trong thực hành:\n",
        "\n",
        "Sau khi vượt qua bước mật khẩu, bạn phải nhập đúng mã OTP thì mới được xác thực.\n",
        "Dù ai đó biết được mật khẩu, họ vẫn không thể đăng nhập nếu không có mã OTP hợp lệ tại thời điểm đó.\n",
        " 3. Sự kết hợp giữa mật khẩu và OTP (2FA) là một giải pháp bảo mật mạnh\n",
        "Qua thực hành, bạn có thể thấy rõ rằng:\n",
        "\n",
        "Nếu mật khẩu sai, không thể tiếp tục.\n",
        "Nếu mật khẩu đúng nhưng mã OTP sai hoặc đã hết hạn, cũng sẽ bị từ chối.\n",
        "Chỉ khi cả hai đều đúng, người dùng mới được xác thực.\n",
        "Đây là cơ chế bảo vệ hiệu quả giúp ngăn chặn hầu hết các hình thức truy cập trái phép.\n",
        "\n",
        " Bài học rút ra:\n",
        "Dựa trên thực nghiệm, có thể khẳng định rằng xác thực hai yếu tố (2FA) không chỉ nâng cao bảo mật, mà còn giúp hệ thống trở nên vững chắc trước các cuộc tấn công phổ biến như đánh cắp mật khẩu. Mật khẩu dù mạnh đến đâu cũng nên được kết hợp với OTP hoặc một yếu tố xác thực bổ sung khác để đảm bảo an toàn tối đa cho người dùng.\n",
        "\n"
      ],
      "metadata": {
        "id": "7VxPphfZfeiA"
      }
    }
  ]
}